{
 "cells": [
  {
   "cell_type": "markdown",
   "id": "4d52691f",
   "metadata": {},
   "source": [
    "# NC Petitions Analysis: Counties with no results\n",
    "\n",
    "Data from https://vt.ncsbe.gov/PetLkup/PetitionResult\n",
    "\n",
    "NC SBOE API query for North Carolina Green Party petition status:\n",
    "\n",
    "https://vt.ncsbe.gov/PetLkup/PetitionResult/?CountyID=0&PetitionName=NORTH%20CAROLINA%20GREEN%20PARTY\n",
    "\n"
   ]
  },
  {
   "cell_type": "code",
   "execution_count": null,
   "id": "cfbdec9a",
   "metadata": {},
   "outputs": [],
   "source": [
    "from selenium import webdriver\n",
    "from selenium.webdriver.chrome.service import Service\n",
    "from selenium.webdriver.common.by import By\n",
    "from webdriver_manager.chrome import ChromeDriverManager\n",
    "from bs4 import BeautifulSoup\n",
    "import numpy as np\n",
    "import pandas as pd\n",
    "import datetime\n",
    "from openpyxl.workbook import Workbook"
   ]
  },
  {
   "cell_type": "code",
   "execution_count": null,
   "id": "971a14d4",
   "metadata": {},
   "outputs": [],
   "source": [
    "today = datetime.date.today().strftime('%Y%m%d')"
   ]
  },
  {
   "cell_type": "code",
   "execution_count": null,
   "id": "fc7dca55",
   "metadata": {},
   "outputs": [],
   "source": [
    "today"
   ]
  },
  {
   "cell_type": "code",
   "execution_count": null,
   "id": "07200e16",
   "metadata": {},
   "outputs": [],
   "source": [
    "vt_url = \"https://vt.ncsbe.gov/PetLkup/PetitionResult/?CountyID=0&PetitionName=NORTH%20CAROLINA%20GREEN%20PARTY\""
   ]
  },
  {
   "cell_type": "code",
   "execution_count": null,
   "id": "c2114d88",
   "metadata": {},
   "outputs": [],
   "source": [
    "driver = webdriver.Chrome(service=Service(ChromeDriverManager().install()))\n",
    "driver.implicitly_wait(5)\n",
    "driver.get(vt_url)"
   ]
  },
  {
   "cell_type": "code",
   "execution_count": null,
   "id": "8c60865a",
   "metadata": {},
   "outputs": [],
   "source": [
    "# NC SBOE is using Ifragistics igGrid. The table data for counties is hidden by default.\n",
    "# To reveal it, you need to click the \"+\" in the ui-iggrid-expandbuttoncontainer.\n",
    "driver.find_element(By.CSS_SELECTOR, \".ui-iggrid-expandbutton\").click()"
   ]
  },
  {
   "cell_type": "code",
   "execution_count": null,
   "id": "cf0fcb3f",
   "metadata": {},
   "outputs": [],
   "source": [
    "soup = BeautifulSoup(driver.page_source, 'lxml')\n",
    "driver.quit()"
   ]
  },
  {
   "cell_type": "code",
   "execution_count": null,
   "id": "a04cf966",
   "metadata": {},
   "outputs": [],
   "source": [
    "tables = soup.find_all('table')\n",
    "dfs = pd.read_html(str(tables))\n",
    "dfs[1].drop('Counties', axis=1, inplace=True)\n",
    "co_table = dfs[1]\n",
    "co_table"
   ]
  },
  {
   "cell_type": "code",
   "execution_count": null,
   "id": "b7d100a6",
   "metadata": {},
   "outputs": [],
   "source": [
    "co_table.loc[(co_table['Checked Signature'] == 0)].style.hide(axis='index')"
   ]
  },
  {
   "cell_type": "code",
   "execution_count": null,
   "id": "a6bbd63f",
   "metadata": {},
   "outputs": [],
   "source": [
    "zero_counties = co_table.loc[(co_table['Checked Signature'] == 0)]\n",
    "xlsout = f\"data/zero_counties-{today}.xlsx\"\n",
    "zero_counties.to_excel(xlsout, index=False)"
   ]
  },
  {
   "cell_type": "code",
   "execution_count": null,
   "id": "4914bd92",
   "metadata": {},
   "outputs": [],
   "source": []
  }
 ],
 "metadata": {
  "kernelspec": {
   "display_name": "Python 3 (ipykernel)",
   "language": "python",
   "name": "python3"
  },
  "language_info": {
   "codemirror_mode": {
    "name": "ipython",
    "version": 3
   },
   "file_extension": ".py",
   "mimetype": "text/x-python",
   "name": "python",
   "nbconvert_exporter": "python",
   "pygments_lexer": "ipython3",
   "version": "3.10.1"
  }
 },
 "nbformat": 4,
 "nbformat_minor": 5
}
